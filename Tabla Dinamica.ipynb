{
 "cells": [
  {
   "cell_type": "code",
   "execution_count": 8,
   "id": "f3671310",
   "metadata": {},
   "outputs": [],
   "source": [
    "import pandas as pd"
   ]
  },
  {
   "cell_type": "code",
   "execution_count": 9,
   "id": "81b257fd",
   "metadata": {},
   "outputs": [
    {
     "name": "stdout",
     "output_type": "stream",
     "text": [
      "Requirement already satisfied: pivottablejs in c:\\users\\cafra\\anaconda3\\lib\\site-packages (0.9.0)\n",
      "Note: you may need to restart the kernel to use updated packages.\n"
     ]
    }
   ],
   "source": [
    "pip install pivottablejs"
   ]
  },
  {
   "cell_type": "code",
   "execution_count": 10,
   "id": "0d6ffb95",
   "metadata": {},
   "outputs": [],
   "source": [
    "from pivottablejs import pivot_ui"
   ]
  },
  {
   "cell_type": "code",
   "execution_count": 11,
   "id": "84640fd4",
   "metadata": {},
   "outputs": [],
   "source": [
    "df = pd.read_excel('Base de Datos.xlsx',sheet_name = 'Base')"
   ]
  },
  {
   "cell_type": "code",
   "execution_count": 12,
   "id": "7767ed93",
   "metadata": {},
   "outputs": [
    {
     "data": {
      "text/html": [
       "<div>\n",
       "<style scoped>\n",
       "    .dataframe tbody tr th:only-of-type {\n",
       "        vertical-align: middle;\n",
       "    }\n",
       "\n",
       "    .dataframe tbody tr th {\n",
       "        vertical-align: top;\n",
       "    }\n",
       "\n",
       "    .dataframe thead th {\n",
       "        text-align: right;\n",
       "    }\n",
       "</style>\n",
       "<table border=\"1\" class=\"dataframe\">\n",
       "  <thead>\n",
       "    <tr style=\"text-align: right;\">\n",
       "      <th></th>\n",
       "      <th>FACTURA</th>\n",
       "      <th>FECHA</th>\n",
       "      <th>COMERCIAL</th>\n",
       "      <th>MARCA</th>\n",
       "      <th>DECRIPCION</th>\n",
       "      <th>Cantidad</th>\n",
       "      <th>PVP</th>\n",
       "      <th>Venta</th>\n",
       "      <th>Coste/ ud</th>\n",
       "      <th>Beneficio</th>\n",
       "    </tr>\n",
       "  </thead>\n",
       "  <tbody>\n",
       "    <tr>\n",
       "      <th>0</th>\n",
       "      <td>1001</td>\n",
       "      <td>2020-01-01</td>\n",
       "      <td>Maria Garcia</td>\n",
       "      <td>Samsung</td>\n",
       "      <td>Auriculares</td>\n",
       "      <td>9</td>\n",
       "      <td>110.000000</td>\n",
       "      <td>990.000000</td>\n",
       "      <td>55.000000</td>\n",
       "      <td>495.000000</td>\n",
       "    </tr>\n",
       "    <tr>\n",
       "      <th>1</th>\n",
       "      <td>1002</td>\n",
       "      <td>2020-01-02</td>\n",
       "      <td>Luis Valle</td>\n",
       "      <td>Samsung</td>\n",
       "      <td>Movil</td>\n",
       "      <td>1</td>\n",
       "      <td>300.000000</td>\n",
       "      <td>300.000000</td>\n",
       "      <td>150.000000</td>\n",
       "      <td>150.000000</td>\n",
       "    </tr>\n",
       "    <tr>\n",
       "      <th>2</th>\n",
       "      <td>1003</td>\n",
       "      <td>2020-01-03</td>\n",
       "      <td>Pablo Lopez</td>\n",
       "      <td>One Plus</td>\n",
       "      <td>Funda movil</td>\n",
       "      <td>8</td>\n",
       "      <td>10.000000</td>\n",
       "      <td>80.000000</td>\n",
       "      <td>5.000000</td>\n",
       "      <td>40.000000</td>\n",
       "    </tr>\n",
       "    <tr>\n",
       "      <th>3</th>\n",
       "      <td>1004</td>\n",
       "      <td>2020-01-03</td>\n",
       "      <td>Pablo Lopez</td>\n",
       "      <td>One Plus</td>\n",
       "      <td>Movil</td>\n",
       "      <td>1</td>\n",
       "      <td>568.666667</td>\n",
       "      <td>568.666667</td>\n",
       "      <td>284.333333</td>\n",
       "      <td>284.333333</td>\n",
       "    </tr>\n",
       "    <tr>\n",
       "      <th>4</th>\n",
       "      <td>1005</td>\n",
       "      <td>2020-01-04</td>\n",
       "      <td>Pablo Lopez</td>\n",
       "      <td>Samsung</td>\n",
       "      <td>Cargador</td>\n",
       "      <td>7</td>\n",
       "      <td>35.000000</td>\n",
       "      <td>245.000000</td>\n",
       "      <td>17.500000</td>\n",
       "      <td>122.500000</td>\n",
       "    </tr>\n",
       "  </tbody>\n",
       "</table>\n",
       "</div>"
      ],
      "text/plain": [
       "   FACTURA      FECHA     COMERCIAL     MARCA   DECRIPCION  Cantidad  \\\n",
       "0     1001 2020-01-01  Maria Garcia   Samsung  Auriculares         9   \n",
       "1     1002 2020-01-02    Luis Valle   Samsung        Movil         1   \n",
       "2     1003 2020-01-03   Pablo Lopez  One Plus  Funda movil         8   \n",
       "3     1004 2020-01-03   Pablo Lopez  One Plus        Movil         1   \n",
       "4     1005 2020-01-04   Pablo Lopez   Samsung     Cargador         7   \n",
       "\n",
       "          PVP       Venta   Coste/ ud   Beneficio  \n",
       "0  110.000000  990.000000   55.000000  495.000000  \n",
       "1  300.000000  300.000000  150.000000  150.000000  \n",
       "2   10.000000   80.000000    5.000000   40.000000  \n",
       "3  568.666667  568.666667  284.333333  284.333333  \n",
       "4   35.000000  245.000000   17.500000  122.500000  "
      ]
     },
     "execution_count": 12,
     "metadata": {},
     "output_type": "execute_result"
    }
   ],
   "source": [
    "df.head()"
   ]
  },
  {
   "cell_type": "code",
   "execution_count": 13,
   "id": "57ae4b0a",
   "metadata": {},
   "outputs": [
    {
     "data": {
      "text/html": [
       "\n",
       "        <iframe\n",
       "            width=\"100%\"\n",
       "            height=\"500\"\n",
       "            src=\"pivottablejs.html\"\n",
       "            frameborder=\"0\"\n",
       "            allowfullscreen\n",
       "            \n",
       "        ></iframe>\n",
       "        "
      ],
      "text/plain": [
       "<IPython.lib.display.IFrame at 0x170a8c37cd0>"
      ]
     },
     "execution_count": 13,
     "metadata": {},
     "output_type": "execute_result"
    }
   ],
   "source": [
    "pivot_ui(df)"
   ]
  },
  {
   "cell_type": "code",
   "execution_count": null,
   "id": "1db2f1a8",
   "metadata": {},
   "outputs": [],
   "source": []
  }
 ],
 "metadata": {
  "kernelspec": {
   "display_name": "Python 3 (ipykernel)",
   "language": "python",
   "name": "python3"
  },
  "language_info": {
   "codemirror_mode": {
    "name": "ipython",
    "version": 3
   },
   "file_extension": ".py",
   "mimetype": "text/x-python",
   "name": "python",
   "nbconvert_exporter": "python",
   "pygments_lexer": "ipython3",
   "version": "3.9.13"
  }
 },
 "nbformat": 4,
 "nbformat_minor": 5
}
